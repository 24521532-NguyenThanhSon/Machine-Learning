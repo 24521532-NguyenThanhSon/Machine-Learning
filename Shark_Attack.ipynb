{
 "cells": [
  {
   "cell_type": "code",
   "execution_count": 83,
   "metadata": {},
   "outputs": [
    {
     "name": "stdout",
     "output_type": "stream",
     "text": [
      "            date    year          type       country                area  \\\n",
      "0     2023-05-13  2023.0    Unprovoked     AUSTRALIA     South Australia   \n",
      "1     2023-04-29  2023.0    Unprovoked     AUSTRALIA   Western Australia   \n",
      "2     2022-10-07  2022.0    Unprovoked     AUSTRALIA  Western  Australia   \n",
      "3     2021-10-04  2021.0    Unprovoked           USA             Florida   \n",
      "4     2021-10-03  2021.0    Unprovoked           USA             Florida   \n",
      "...          ...     ...           ...           ...                 ...   \n",
      "6885         NaN     NaN  Sea Disaster        GREECE        Off Thessaly   \n",
      "6886         NaN     NaN    Unprovoked     INDONESIA       Riau Province   \n",
      "6887         NaN     NaN    Unprovoked          IRAQ              Basrah   \n",
      "6888         NaN     NaN    Unprovoked  SOUTH AFRICA       KwaZulu-Natal   \n",
      "6889         NaN     NaN    Unprovoked     AUSTRALIA   Western Australia   \n",
      "\n",
      "                                               location  \\\n",
      "0                                              Elliston   \n",
      "1                                  Yallingup, Busselton   \n",
      "2                                          Port Hedland   \n",
      "3              Fort Pierce State Park, St. Lucie County   \n",
      "4                           Jensen Beach, Martin County   \n",
      "...                                                 ...   \n",
      "6885                                                NaN   \n",
      "6886  Natuna Islands, between Sumatra & Kalimantan i...   \n",
      "6887        Shatt-el Arab River near a small boat stand   \n",
      "6888                                             Durban   \n",
      "6889                                                NaN   \n",
      "\n",
      "                                         activity                name sex  \\\n",
      "0                                         Surfing    Simon Baccanello   M   \n",
      "1                                        Swimming                male   M   \n",
      "2                                    Spearfishing         Robbie Peck   M   \n",
      "3                                         Surfing  Truman Van Patrick   M   \n",
      "4                                        Swimming                male   M   \n",
      "...                                           ...                 ...  ..   \n",
      "6885                    Shipwrecked Persian Fleet               males   M   \n",
      "6886                  Swimming near anchored ship   a ship's engineer   M   \n",
      "6887                                     Swimming                male   M   \n",
      "6888  Crew swimming alongside their anchored ship                male   M   \n",
      "6889                                 Pearl diving               Ahmun   M   \n",
      "\n",
      "           age fatal_y_n       time      species  \n",
      "0           46         Y      10h10  White shark  \n",
      "1          NaN         N      11h20     1m shark  \n",
      "2           38         N      11h30   Bull shark  \n",
      "3         25.0         N        NaN          NaN  \n",
      "4          NaN         N      12h00          NaN  \n",
      "...        ...       ...        ...          ...  \n",
      "6885       NaN         Y        NaN          NaN  \n",
      "6886       NaN         Y        NaN          NaN  \n",
      "6887  13 or 14         Y  Afternoon   Bull shark  \n",
      "6888       NaN         Y        NaN          NaN  \n",
      "6889       NaN         Y        NaN          NaN  \n",
      "\n",
      "[6890 rows x 13 columns]\n"
     ]
    }
   ],
   "source": [
    "import numpy as np\n",
    "import pandas as pd\n",
    "import matplotlib.pyplot as plt\n",
    "from sklearn.linear_model import LinearRegression\n",
    "from sklearn.model_selection import train_test_split\n",
    "data = pd.read_csv(\"global_shark_attacks.csv\")\n",
    "print(data)\n",
    "# print(type(data[\"date\"]))\n",
    "# data[\"date\"] = pd.to_datetime(data[\"date\"],errors=\"coerce\")\n",
    "# data[\"data\"] = pd.to_numeric(data[\"date\"], errors=\"coerce\")\n",
    "# key = data[\"species\"]\n",
    "# del data[\"species\"]\n",
    "# X_train, X_test, y_train, y_test = train_test_split(data, key, test_size=0.2)\n",
    "# model = LinearRegression()\n",
    "# model.fit(X_train, X_test)\n"
   ]
  },
  {
   "cell_type": "code",
   "execution_count": null,
   "metadata": {},
   "outputs": [],
   "source": []
  }
 ],
 "metadata": {
  "kernelspec": {
   "display_name": ".venv",
   "language": "python",
   "name": "python3"
  },
  "language_info": {
   "codemirror_mode": {
    "name": "ipython",
    "version": 3
   },
   "file_extension": ".py",
   "mimetype": "text/x-python",
   "name": "python",
   "nbconvert_exporter": "python",
   "pygments_lexer": "ipython3",
   "version": "3.13.0"
  }
 },
 "nbformat": 4,
 "nbformat_minor": 2
}
